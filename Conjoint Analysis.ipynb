{
 "cells": [
  {
   "cell_type": "markdown",
   "metadata": {},
   "source": [
    "# Assignment 4: Conjoint Analysis\n",
    "The objective of this assignment is to give you experience with ratings-based conjoint analysis.\n",
    "\n",
    "### Part 1: Study Design"
   ]
  },
  {
   "cell_type": "code",
   "execution_count": 19,
   "metadata": {},
   "outputs": [],
   "source": [
    "# Import the experimental design builder script.\n",
    "import sys\n",
    "sys.path.insert(1, '/data/Assignment-4')\n",
    "import designer\n",
    "import pandas as pd\n",
    "import numpy as np"
   ]
  },
  {
   "cell_type": "code",
   "execution_count": 20,
   "metadata": {},
   "outputs": [],
   "source": [
    "import inspect"
   ]
  },
  {
   "cell_type": "code",
   "execution_count": 21,
   "metadata": {},
   "outputs": [
    {
     "name": "stdout",
     "output_type": "stream",
     "text": [
      "import pickle\n",
      "import pandas as pd\n",
      "from collections import defaultdict\n",
      "\n",
      "designs = pickle.load(open(\"/data/Assignment-4/designs.pkl\", 'rb'))\n",
      "\n",
      "def get_design(attributes):\n",
      "    if len(attributes) > 6:\n",
      "        raise ValueError(\"Too many attributes!\")\n",
      "    parameters = 1 + sum([len(levels) - 1 for levels in attributes.values()])\n",
      "    if parameters > 13:\n",
      "        raise ValueError(\"Too many parameters; fewer levels required.\")\n",
      "    min_levels = min([len(levels) for levels in attributes.values()])\n",
      "    max_levels = max([len(levels) for levels in attributes.values()])\n",
      "    if max_levels - min_levels > 2:\n",
      "        raise ValueError(\"Differences in level numbers too large (cannot exceed 2).\")\n",
      "\n",
      "    sorted_attributes = tuple(sorted([len(levels) for levels in attributes.values()]))\n",
      "    attribute_indices = sorted(range(len(sorted_attributes)),\n",
      "                               key=lambda idx: [len(levels) for levels in attributes.values()][idx])\n",
      "    if sorted_attributes not in designs:\n",
      "        raise Error(\"No matching designs found.\")\n",
      "    design = designs[sorted_attributes][:,attribute_indices]\n",
      "\n",
      "    design_dict = defaultdict(list)\n",
      "    for row in range(len(design)):\n",
      "        attr_idx = 0\n",
      "        for attribute in attributes:\n",
      "            design_dict[attribute].append(attributes[attribute][design[row][attr_idx]])\n",
      "            attr_idx += 1\n",
      "    design = pd.DataFrame(data=design_dict)\n",
      "    return(design)\n",
      "\n"
     ]
    }
   ],
   "source": [
    "lines = inspect.getsource(designer)\n",
    "print(lines)"
   ]
  },
  {
   "cell_type": "markdown",
   "metadata": {},
   "source": [
    "**Task 1:** Define a variable called `attributes` that contains the attributes and levels within each attribute.  The viable shoukd be a dictionary where each attribute is a key and the value associated witht he key is a list of the levels.  For example, if the two attributes were color (with levels red and green) and shape (with levels round and square), then `attributes` would be defined as follows.\n",
    "\n",
    "```\n",
    "attributes = {\"color\": [\"red\", \"green\"],\n",
    "             \"shape\": [\"round\", \"square\"]}\n",
    "```"
   ]
  },
  {
   "cell_type": "code",
   "execution_count": 22,
   "metadata": {},
   "outputs": [],
   "source": [
    "attributes = {\"dairy\": [\"Yes\", \"No\"],\n",
    "             \"size\": [\"11-Oz\", \"16.9-Oz\"],\n",
    "             \"protein\": [\"Natural\",\"Synthetic\"]}"
   ]
  },
  {
   "cell_type": "code",
   "execution_count": 23,
   "metadata": {},
   "outputs": [
    {
     "data": {
      "text/html": [
       "<div>\n",
       "<style scoped>\n",
       "    .dataframe tbody tr th:only-of-type {\n",
       "        vertical-align: middle;\n",
       "    }\n",
       "\n",
       "    .dataframe tbody tr th {\n",
       "        vertical-align: top;\n",
       "    }\n",
       "\n",
       "    .dataframe thead th {\n",
       "        text-align: right;\n",
       "    }\n",
       "</style>\n",
       "<table border=\"1\" class=\"dataframe\">\n",
       "  <thead>\n",
       "    <tr style=\"text-align: right;\">\n",
       "      <th></th>\n",
       "      <th>dairy</th>\n",
       "      <th>size</th>\n",
       "      <th>protein</th>\n",
       "    </tr>\n",
       "  </thead>\n",
       "  <tbody>\n",
       "    <tr>\n",
       "      <td>0</td>\n",
       "      <td>Yes</td>\n",
       "      <td>16.9-Oz</td>\n",
       "      <td>Synthetic</td>\n",
       "    </tr>\n",
       "    <tr>\n",
       "      <td>1</td>\n",
       "      <td>No</td>\n",
       "      <td>16.9-Oz</td>\n",
       "      <td>Synthetic</td>\n",
       "    </tr>\n",
       "    <tr>\n",
       "      <td>2</td>\n",
       "      <td>Yes</td>\n",
       "      <td>11-Oz</td>\n",
       "      <td>Synthetic</td>\n",
       "    </tr>\n",
       "    <tr>\n",
       "      <td>3</td>\n",
       "      <td>Yes</td>\n",
       "      <td>11-Oz</td>\n",
       "      <td>Natural</td>\n",
       "    </tr>\n",
       "    <tr>\n",
       "      <td>4</td>\n",
       "      <td>No</td>\n",
       "      <td>11-Oz</td>\n",
       "      <td>Natural</td>\n",
       "    </tr>\n",
       "    <tr>\n",
       "      <td>5</td>\n",
       "      <td>No</td>\n",
       "      <td>16.9-Oz</td>\n",
       "      <td>Natural</td>\n",
       "    </tr>\n",
       "    <tr>\n",
       "      <td>6</td>\n",
       "      <td>No</td>\n",
       "      <td>11-Oz</td>\n",
       "      <td>Synthetic</td>\n",
       "    </tr>\n",
       "    <tr>\n",
       "      <td>7</td>\n",
       "      <td>Yes</td>\n",
       "      <td>16.9-Oz</td>\n",
       "      <td>Natural</td>\n",
       "    </tr>\n",
       "  </tbody>\n",
       "</table>\n",
       "</div>"
      ],
      "text/plain": [
       "  dairy     size    protein\n",
       "0   Yes  16.9-Oz  Synthetic\n",
       "1    No  16.9-Oz  Synthetic\n",
       "2   Yes    11-Oz  Synthetic\n",
       "3   Yes    11-Oz    Natural\n",
       "4    No    11-Oz    Natural\n",
       "5    No  16.9-Oz    Natural\n",
       "6    No    11-Oz  Synthetic\n",
       "7   Yes  16.9-Oz    Natural"
      ]
     },
     "execution_count": 23,
     "metadata": {},
     "output_type": "execute_result"
    }
   ],
   "source": [
    "# Use the designer script to find a matching design.\n",
    "design = designer.get_design(attributes)\n",
    "design"
   ]
  },
  {
   "cell_type": "markdown",
   "metadata": {},
   "source": [
    "### Parts 2 & 3: Write and administer the survey\n",
    "**Task 2:** When you are done administering the survey:\n",
    "- download CSV from qualtrics\n",
    "- rename the file `survey.csv` and upload it here, and\n",
    "- read the CSV file in as a pandas data frame called `raw_survey_results`."
   ]
  },
  {
   "cell_type": "code",
   "execution_count": 24,
   "metadata": {},
   "outputs": [],
   "source": [
    "raw_survey_results = pd.read_csv(\"survey.csv\", header=1)"
   ]
  },
  {
   "cell_type": "markdown",
   "metadata": {},
   "source": [
    "**Task 3:** Clean the data in preparation for analysis; name the clean data frame `clean_survey_results`.  You may need to do some or all of the following:\n",
    "- remove rows and/or columns\n",
    "- rename columns\n",
    "- melt the data\n",
    "- merge the data with the design data frame you created previously\n",
    "The final data frame should have one row per rating with the following columns:\n",
    "- some kind of respondent identifier to distinguish individuals\n",
    "- the rating (1-7)\n",
    "- one column for each attribute"
   ]
  },
  {
   "cell_type": "code",
   "execution_count": 25,
   "metadata": {},
   "outputs": [
    {
     "name": "stdout",
     "output_type": "stream",
     "text": [
      "           Response ID rating dairy     size    protein\n",
      "0    R_3qaqW0eYAJn1hOb      5   Yes    11 oz    Natural\n",
      "1    R_2wLGvRg9Y4EsjTu      3   Yes    11 oz    Natural\n",
      "2    R_1K22fncrFg6b19V      2   Yes    11 oz    Natural\n",
      "3    R_110HWkVnj3TyxKp      2   Yes    11 oz    Natural\n",
      "4    R_3PvOqFJvcxARm77      6   Yes    11 oz    Natural\n",
      "..                 ...    ...   ...      ...        ...\n",
      "145  R_VKzQ0vXsTB7xra1      3   Yes  16.9 oz  Synthetic\n",
      "146  R_cZ4SgLfmwdPvI8F      7   Yes  16.9 oz  Synthetic\n",
      "147  R_1Io1cuIB1lYheOI      1   Yes  16.9 oz  Synthetic\n",
      "148  R_1gwNShhIIruqEgb      3   Yes  16.9 oz  Synthetic\n",
      "149  R_1OVUaWHDMhd3oq3      2   Yes  16.9 oz  Synthetic\n",
      "\n",
      "[150 rows x 5 columns]\n"
     ]
    }
   ],
   "source": [
    "clean_survey_results = raw_survey_results.drop(raw_survey_results.index[0])\n",
    "clean_survey_results = clean_survey_results.drop(clean_survey_results.columns[0:8], axis=1)\n",
    "clean_survey_results = clean_survey_results.drop(clean_survey_results.columns[1:9], axis=1)\n",
    "clean_survey_results.columns = ['Response ID'] +([str(i) for i in range(1,9)])\n",
    "clean_survey_results = clean_survey_results.replace(np.nan, '1', regex=True)\n",
    "clean_survey_results = pd.melt(clean_survey_results, id_vars = ['Response ID'], \n",
    "                               var_name='product', value_name='rating')\n",
    "design = pd.DataFrame({\"product\": [str(i) for i in range(1,9)],\n",
    "                       \"dairy\": [\"Yes\", \"No\"]*4,\n",
    "                       \"size\": ([\"11 oz\"]*2 + [\"16.9 oz\"]*2)*2,\n",
    "                       \"protein\": [\"Natural\"]*4 + [\"Synthetic\"]*4})\n",
    "clean_survey_results = clean_survey_results.merge(design, on='product')\n",
    "clean_survey_results = clean_survey_results.drop('product', axis=1)\n",
    "print(clean_survey_results.head(150))"
   ]
  },
  {
   "cell_type": "markdown",
   "metadata": {},
   "source": [
    "**Task 4:** Introduce dummy variables in preparation for anlaysis.  Now, for each attribute, there should be the number of levels minus one.  (The intercept captures the \"default\" level, and the part-worths for all other levels will be measured relative to the default utility.)"
   ]
  },
  {
   "cell_type": "code",
   "execution_count": 26,
   "metadata": {},
   "outputs": [
    {
     "data": {
      "text/html": [
       "<div>\n",
       "<style scoped>\n",
       "    .dataframe tbody tr th:only-of-type {\n",
       "        vertical-align: middle;\n",
       "    }\n",
       "\n",
       "    .dataframe tbody tr th {\n",
       "        vertical-align: top;\n",
       "    }\n",
       "\n",
       "    .dataframe thead th {\n",
       "        text-align: right;\n",
       "    }\n",
       "</style>\n",
       "<table border=\"1\" class=\"dataframe\">\n",
       "  <thead>\n",
       "    <tr style=\"text-align: right;\">\n",
       "      <th></th>\n",
       "      <th>Response ID</th>\n",
       "      <th>rating</th>\n",
       "      <th>dairy_alt</th>\n",
       "      <th>size_alt</th>\n",
       "      <th>protein_alt</th>\n",
       "    </tr>\n",
       "  </thead>\n",
       "  <tbody>\n",
       "    <tr>\n",
       "      <td>0</td>\n",
       "      <td>R_3qaqW0eYAJn1hOb</td>\n",
       "      <td>5</td>\n",
       "      <td>True</td>\n",
       "      <td>True</td>\n",
       "      <td>True</td>\n",
       "    </tr>\n",
       "    <tr>\n",
       "      <td>1</td>\n",
       "      <td>R_2wLGvRg9Y4EsjTu</td>\n",
       "      <td>3</td>\n",
       "      <td>True</td>\n",
       "      <td>True</td>\n",
       "      <td>True</td>\n",
       "    </tr>\n",
       "    <tr>\n",
       "      <td>2</td>\n",
       "      <td>R_1K22fncrFg6b19V</td>\n",
       "      <td>2</td>\n",
       "      <td>True</td>\n",
       "      <td>True</td>\n",
       "      <td>True</td>\n",
       "    </tr>\n",
       "    <tr>\n",
       "      <td>3</td>\n",
       "      <td>R_110HWkVnj3TyxKp</td>\n",
       "      <td>2</td>\n",
       "      <td>True</td>\n",
       "      <td>True</td>\n",
       "      <td>True</td>\n",
       "    </tr>\n",
       "    <tr>\n",
       "      <td>4</td>\n",
       "      <td>R_3PvOqFJvcxARm77</td>\n",
       "      <td>6</td>\n",
       "      <td>True</td>\n",
       "      <td>True</td>\n",
       "      <td>True</td>\n",
       "    </tr>\n",
       "    <tr>\n",
       "      <td>...</td>\n",
       "      <td>...</td>\n",
       "      <td>...</td>\n",
       "      <td>...</td>\n",
       "      <td>...</td>\n",
       "      <td>...</td>\n",
       "    </tr>\n",
       "    <tr>\n",
       "      <td>145</td>\n",
       "      <td>R_VKzQ0vXsTB7xra1</td>\n",
       "      <td>3</td>\n",
       "      <td>True</td>\n",
       "      <td>False</td>\n",
       "      <td>False</td>\n",
       "    </tr>\n",
       "    <tr>\n",
       "      <td>146</td>\n",
       "      <td>R_cZ4SgLfmwdPvI8F</td>\n",
       "      <td>7</td>\n",
       "      <td>True</td>\n",
       "      <td>False</td>\n",
       "      <td>False</td>\n",
       "    </tr>\n",
       "    <tr>\n",
       "      <td>147</td>\n",
       "      <td>R_1Io1cuIB1lYheOI</td>\n",
       "      <td>1</td>\n",
       "      <td>True</td>\n",
       "      <td>False</td>\n",
       "      <td>False</td>\n",
       "    </tr>\n",
       "    <tr>\n",
       "      <td>148</td>\n",
       "      <td>R_1gwNShhIIruqEgb</td>\n",
       "      <td>3</td>\n",
       "      <td>True</td>\n",
       "      <td>False</td>\n",
       "      <td>False</td>\n",
       "    </tr>\n",
       "    <tr>\n",
       "      <td>149</td>\n",
       "      <td>R_1OVUaWHDMhd3oq3</td>\n",
       "      <td>2</td>\n",
       "      <td>True</td>\n",
       "      <td>False</td>\n",
       "      <td>False</td>\n",
       "    </tr>\n",
       "  </tbody>\n",
       "</table>\n",
       "<p>150 rows × 5 columns</p>\n",
       "</div>"
      ],
      "text/plain": [
       "           Response ID rating  dairy_alt  size_alt  protein_alt\n",
       "0    R_3qaqW0eYAJn1hOb      5       True      True         True\n",
       "1    R_2wLGvRg9Y4EsjTu      3       True      True         True\n",
       "2    R_1K22fncrFg6b19V      2       True      True         True\n",
       "3    R_110HWkVnj3TyxKp      2       True      True         True\n",
       "4    R_3PvOqFJvcxARm77      6       True      True         True\n",
       "..                 ...    ...        ...       ...          ...\n",
       "145  R_VKzQ0vXsTB7xra1      3       True     False        False\n",
       "146  R_cZ4SgLfmwdPvI8F      7       True     False        False\n",
       "147  R_1Io1cuIB1lYheOI      1       True     False        False\n",
       "148  R_1gwNShhIIruqEgb      3       True     False        False\n",
       "149  R_1OVUaWHDMhd3oq3      2       True     False        False\n",
       "\n",
       "[150 rows x 5 columns]"
      ]
     },
     "execution_count": 26,
     "metadata": {},
     "output_type": "execute_result"
    }
   ],
   "source": [
    "data = clean_survey_results\n",
    "data['dairy_alt'] = data['dairy'] == \"Yes\"\n",
    "data['size_alt'] = data['size'] == \"11 oz\"\n",
    "data['protein_alt'] = data['protein'] == \"Natural\"\n",
    "data = data.drop(['dairy', 'size', 'protein'], axis=1)\n",
    "data.head(150)"
   ]
  },
  {
   "cell_type": "markdown",
   "metadata": {},
   "source": [
    "### Part 4: Estimate the average and individual part-worths\n",
    "\n",
    "You will use [sklearn's implementation of linear regression](https://scikit-learn.org/stable/modules/generated/sklearn.linear_model.LinearRegression.html) to estimate part-worths."
   ]
  },
  {
   "cell_type": "code",
   "execution_count": 27,
   "metadata": {},
   "outputs": [],
   "source": [
    "import numpy as np\n",
    "from sklearn.linear_model import LinearRegression"
   ]
  },
  {
   "cell_type": "markdown",
   "metadata": {},
   "source": [
    "**Task 5:** Compute the average part-worths by:\n",
    "- splitting the data into `y` (the response/rating) and `X` (the explanatory variables/attribute levels), and\n",
    "- Run a linear regression to estimate intercept and coefficients."
   ]
  },
  {
   "cell_type": "code",
   "execution_count": 28,
   "metadata": {},
   "outputs": [
    {
     "name": "stdout",
     "output_type": "stream",
     "text": [
      "[ 5.65217391e-01 -1.96432145e-16 -2.39130435e-01]\n",
      "3.3260869565217392\n"
     ]
    }
   ],
   "source": [
    "X = data[['dairy_alt','size_alt','protein_alt']]\n",
    "Y = data['rating']\n",
    "reg = LinearRegression().fit(X, Y)\n",
    "print(reg.coef_)\n",
    "print(reg.intercept_)"
   ]
  },
  {
   "cell_type": "code",
   "execution_count": null,
   "metadata": {},
   "outputs": [],
   "source": []
  },
  {
   "cell_type": "markdown",
   "metadata": {},
   "source": [
    "**Task 6:** Calculate the importance of each attribute by doing the following steps.\n",
    "1. Compute the part-worth range for each attribute. \n",
    "2. Calculate the total range, summing the ranges over each attribute.\n",
    "3. Calculate the importance for a single attribute as the range for that attribute over the total range."
   ]
  },
  {
   "cell_type": "code",
   "execution_count": 29,
   "metadata": {},
   "outputs": [
    {
     "name": "stdout",
     "output_type": "stream",
     "text": [
      "2.7608695652173916\n",
      "3.3260869565217392\n",
      "3.5652173913043477\n"
     ]
    }
   ],
   "source": [
    "p_dairy = reg.intercept_ - reg.coef_[0]\n",
    "p_size = reg.intercept_ - reg.coef_[1]\n",
    "p_protein = reg.intercept_ - reg.coef_[2]\n",
    "print(p_dairy)\n",
    "print(p_size)\n",
    "print(p_protein)"
   ]
  },
  {
   "cell_type": "markdown",
   "metadata": {},
   "source": [
    "Calculate the total range "
   ]
  },
  {
   "cell_type": "code",
   "execution_count": 30,
   "metadata": {},
   "outputs": [
    {
     "name": "stdout",
     "output_type": "stream",
     "text": [
      "9.652173913043478\n"
     ]
    }
   ],
   "source": [
    "Total = (p_dairy) + (p_size) + (p_protein)\n",
    "print (Total)"
   ]
  },
  {
   "cell_type": "markdown",
   "metadata": {},
   "source": [
    "Calculate the importance of each attribute"
   ]
  },
  {
   "cell_type": "code",
   "execution_count": 31,
   "metadata": {},
   "outputs": [
    {
     "name": "stdout",
     "output_type": "stream",
     "text": [
      "0.28603603603603606\n",
      "0.34459459459459457\n",
      "0.36936936936936937\n"
     ]
    }
   ],
   "source": [
    "p_dairy_imp = p_dairy/Total\n",
    "p_size_imp = p_size/Total\n",
    "p_protein_imp = p_protein/Total\n",
    "print(p_dairy_imp)\n",
    "print(p_size_imp)\n",
    "print(p_protein_imp)"
   ]
  },
  {
   "cell_type": "markdown",
   "metadata": {},
   "source": [
    "**Task 7:** Now calculate individual part-worths.  You will do this by dividing up the data by individual respondent and running one regression for each respondent.  You should write a loop to iterate over all the respondents instead of doing each one manually.\n",
    "\n",
    "You will want to create a data frame called `individual_part_worths` that has one row per individual respondent; the columns should be the respondent identifier, the intercept of the regression, and all the coefficients of the regression."
   ]
  },
  {
   "cell_type": "code",
   "execution_count": 32,
   "metadata": {},
   "outputs": [
    {
     "name": "stdout",
     "output_type": "stream",
     "text": [
      "          Response ID intercept    dairy_alt     size_alt  protein_alt\n",
      "0   R_3qaqW0eYAJn1hOb      5.75         -0.5         -1.5  3.92523e-17\n",
      "1   R_2wLGvRg9Y4EsjTu         7           -1           -2           -1\n",
      "2   R_1K22fncrFg6b19V      3.75          0.5         -0.5         -1.5\n",
      "3   R_110HWkVnj3TyxKp      2.25            3            0 -6.28037e-16\n",
      "4   R_3PvOqFJvcxARm77         4 -1.57009e-16            1 -7.85046e-17\n",
      "5   R_1OrUUvZ2npkkiQY         1            0            0            0\n",
      "6   R_22DoMtTnvneHZt6         1            0            0            0\n",
      "7   R_VKzQ0vXsTB7xra1         2          0.5          1.5          1.5\n",
      "8   R_cZ4SgLfmwdPvI8F      5.25            2         -0.5           -2\n",
      "9   R_1Io1cuIB1lYheOI      0.25            2         -0.5          2.5\n",
      "10  R_1gwNShhIIruqEgb      0.75         2.75         0.75        -0.25\n",
      "11  R_1OVUaWHDMhd3oq3      1.25            1            1            2\n",
      "12  R_22Eu13cBk1GbMHv         3           -1 -7.85046e-17           -1\n",
      "13  R_1FgPshqAtfazCXT      6.25  1.57009e-16           -1         -2.5\n",
      "14  R_28TZQpaiuujpfio       1.5         2.25         1.25         0.25\n",
      "15  R_2Wuv3KQXB60dwfd       2.5         1.25         0.25        -1.25\n",
      "16  R_3jZm3eEzooOuGeZ       4.5            1           -1         -0.5\n",
      "17  R_2VpQ8qEWEYGcgtJ         4            0            1            1\n",
      "18  R_2c2Bqqu7x81gSK8      5.25 -7.85046e-17  9.81308e-18  3.92523e-17\n",
      "19  R_SJYTJTFZOu8hlsd       5.5            1            0           -3\n",
      "20  R_1hFiyY6llvpRXru         4            0            0            0\n",
      "21  R_21oe0X57td6GgJe         1            0            0            0\n",
      "22  R_2Ui1iMPPfP5uliG      4.75        -1.75         0.25         0.25\n"
     ]
    }
   ],
   "source": [
    "ls = data['Response ID'].unique()\n",
    "individual_part_worths = pd.DataFrame(index = ls, columns=['intercept', 'dairy_alt', 'size_alt', 'protein_alt'])\n",
    "for i in ls:\n",
    "    df = data[data['Response ID']== i].iloc[:,1:]\n",
    "    X = df.iloc[:, 1:]\n",
    "    Y = df.iloc[:, :1]\n",
    "    model = LinearRegression()\n",
    "    model.fit(X,Y)\n",
    "    individual_part_worths.loc[i,'intercept'] = model.intercept_[0]\n",
    "    individual_part_worths.loc[i, 'dairy_alt'] = model.coef_[0][0]\n",
    "    individual_part_worths.loc[i, 'size_alt'] = model.coef_[0][1]\n",
    "    individual_part_worths.loc[i, 'protein_alt'] = model.coef_[0][2]\n",
    "individual_part_worths.reset_index(inplace = True)\n",
    "individual_part_worths.rename(columns={'index':'Response ID'}, inplace=True)\n",
    "print(individual_part_worths)"
   ]
  },
  {
   "cell_type": "markdown",
   "metadata": {},
   "source": [
    "**Task 8:** Create a visualization of the individual respondent coefficients and intercepts.  On the x axis should have categories for each of the level dummy variables and default; on the y-axis should be the part-worths (the values of the coefficients and the intercepts).  You should ploth both a summary of the part-worths (e.g., a violin plot, or box and whiskers) and the individual values."
   ]
  },
  {
   "cell_type": "code",
   "execution_count": 33,
   "metadata": {},
   "outputs": [
    {
     "data": {
      "text/html": [
       "<div>\n",
       "<style scoped>\n",
       "    .dataframe tbody tr th:only-of-type {\n",
       "        vertical-align: middle;\n",
       "    }\n",
       "\n",
       "    .dataframe tbody tr th {\n",
       "        vertical-align: top;\n",
       "    }\n",
       "\n",
       "    .dataframe thead th {\n",
       "        text-align: right;\n",
       "    }\n",
       "</style>\n",
       "<table border=\"1\" class=\"dataframe\">\n",
       "  <thead>\n",
       "    <tr style=\"text-align: right;\">\n",
       "      <th></th>\n",
       "      <th>Response ID</th>\n",
       "      <th>Categories</th>\n",
       "      <th>Coefficient</th>\n",
       "    </tr>\n",
       "  </thead>\n",
       "  <tbody>\n",
       "    <tr>\n",
       "      <td>0</td>\n",
       "      <td>R_3qaqW0eYAJn1hOb</td>\n",
       "      <td>intercept</td>\n",
       "      <td>5.75</td>\n",
       "    </tr>\n",
       "    <tr>\n",
       "      <td>1</td>\n",
       "      <td>R_2wLGvRg9Y4EsjTu</td>\n",
       "      <td>intercept</td>\n",
       "      <td>7</td>\n",
       "    </tr>\n",
       "    <tr>\n",
       "      <td>2</td>\n",
       "      <td>R_1K22fncrFg6b19V</td>\n",
       "      <td>intercept</td>\n",
       "      <td>3.75</td>\n",
       "    </tr>\n",
       "    <tr>\n",
       "      <td>3</td>\n",
       "      <td>R_110HWkVnj3TyxKp</td>\n",
       "      <td>intercept</td>\n",
       "      <td>2.25</td>\n",
       "    </tr>\n",
       "    <tr>\n",
       "      <td>4</td>\n",
       "      <td>R_3PvOqFJvcxARm77</td>\n",
       "      <td>intercept</td>\n",
       "      <td>4</td>\n",
       "    </tr>\n",
       "    <tr>\n",
       "      <td>...</td>\n",
       "      <td>...</td>\n",
       "      <td>...</td>\n",
       "      <td>...</td>\n",
       "    </tr>\n",
       "    <tr>\n",
       "      <td>87</td>\n",
       "      <td>R_2c2Bqqu7x81gSK8</td>\n",
       "      <td>protein_alt</td>\n",
       "      <td>3.92523e-17</td>\n",
       "    </tr>\n",
       "    <tr>\n",
       "      <td>88</td>\n",
       "      <td>R_SJYTJTFZOu8hlsd</td>\n",
       "      <td>protein_alt</td>\n",
       "      <td>-3</td>\n",
       "    </tr>\n",
       "    <tr>\n",
       "      <td>89</td>\n",
       "      <td>R_1hFiyY6llvpRXru</td>\n",
       "      <td>protein_alt</td>\n",
       "      <td>0</td>\n",
       "    </tr>\n",
       "    <tr>\n",
       "      <td>90</td>\n",
       "      <td>R_21oe0X57td6GgJe</td>\n",
       "      <td>protein_alt</td>\n",
       "      <td>0</td>\n",
       "    </tr>\n",
       "    <tr>\n",
       "      <td>91</td>\n",
       "      <td>R_2Ui1iMPPfP5uliG</td>\n",
       "      <td>protein_alt</td>\n",
       "      <td>0.25</td>\n",
       "    </tr>\n",
       "  </tbody>\n",
       "</table>\n",
       "<p>92 rows × 3 columns</p>\n",
       "</div>"
      ],
      "text/plain": [
       "          Response ID   Categories  Coefficient\n",
       "0   R_3qaqW0eYAJn1hOb    intercept         5.75\n",
       "1   R_2wLGvRg9Y4EsjTu    intercept            7\n",
       "2   R_1K22fncrFg6b19V    intercept         3.75\n",
       "3   R_110HWkVnj3TyxKp    intercept         2.25\n",
       "4   R_3PvOqFJvcxARm77    intercept            4\n",
       "..                ...          ...          ...\n",
       "87  R_2c2Bqqu7x81gSK8  protein_alt  3.92523e-17\n",
       "88  R_SJYTJTFZOu8hlsd  protein_alt           -3\n",
       "89  R_1hFiyY6llvpRXru  protein_alt            0\n",
       "90  R_21oe0X57td6GgJe  protein_alt            0\n",
       "91  R_2Ui1iMPPfP5uliG  protein_alt         0.25\n",
       "\n",
       "[92 rows x 3 columns]"
      ]
     },
     "execution_count": 33,
     "metadata": {},
     "output_type": "execute_result"
    }
   ],
   "source": [
    "# Set up R, if desired for visualization\n",
    "import rpy2.ipython\n",
    "%reload_ext rpy2.ipython\n",
    "plot = individual_part_worths.melt(id_vars=\"Response ID\", var_name=\"Categories\", value_name=\"Coefficient\")\n",
    "plot"
   ]
  },
  {
   "cell_type": "code",
   "execution_count": 35,
   "metadata": {},
   "outputs": [
    {
     "data": {
      "image/png": "[encoded data removed]",
      "text/plain": [
       "<Figure size 432x288 with 1 Axes>"
      ]
     },
     "metadata": {
      "needs_background": "light"
     },
     "output_type": "display_data"
    }
   ],
   "source": [
    "import matplotlib.pyplot as plt\n",
    "import seaborn as sns\n",
    "sns.boxplot(x=\"Categories\", y=\"Coefficient\", data=plot)\n",
    "sns.swarmplot(x=\"Categories\", y=\"Coefficient\", data=plot, color=\".25\")\n",
    "plt.savefig(\"Plot_final.png\")"
   ]
  },
  {
   "cell_type": "markdown",
   "metadata": {},
   "source": [
    "### Part 5: Simulate the Market\n",
    "**Task 9:** Write a function `utility` that takes two arguments:\n",
    "- `product`: a list of which level has been selected for each attribute.  For example, if the two attributes were color (with levels red and green) and shape (with levels round and square), then `product` could take the value `[\"red\", \"square\"]`.\n",
    "- `part_worths`: a row from the `individual_part_worths` data frame created for Task 6 (i.e., one individual's part-worths) .\n",
    "\n",
    "The `utility` function should compute and return the utility of the specified individual for the specified product; this is the intercept plus any relevant part-worths that correspond to the product's attribute levels."
   ]
  },
  {
   "cell_type": "code",
   "execution_count": 36,
   "metadata": {},
   "outputs": [
    {
     "data": {
      "text/html": [
       "<div>\n",
       "<style scoped>\n",
       "    .dataframe tbody tr th:only-of-type {\n",
       "        vertical-align: middle;\n",
       "    }\n",
       "\n",
       "    .dataframe tbody tr th {\n",
       "        vertical-align: top;\n",
       "    }\n",
       "\n",
       "    .dataframe thead th {\n",
       "        text-align: right;\n",
       "    }\n",
       "</style>\n",
       "<table border=\"1\" class=\"dataframe\">\n",
       "  <thead>\n",
       "    <tr style=\"text-align: right;\">\n",
       "      <th></th>\n",
       "      <th>Response ID</th>\n",
       "      <th>utility</th>\n",
       "    </tr>\n",
       "  </thead>\n",
       "  <tbody>\n",
       "    <tr>\n",
       "      <td>0</td>\n",
       "      <td>R_3qaqW0eYAJn1hOb</td>\n",
       "      <td>5.25</td>\n",
       "    </tr>\n",
       "    <tr>\n",
       "      <td>1</td>\n",
       "      <td>R_2wLGvRg9Y4EsjTu</td>\n",
       "      <td>5</td>\n",
       "    </tr>\n",
       "    <tr>\n",
       "      <td>2</td>\n",
       "      <td>R_1K22fncrFg6b19V</td>\n",
       "      <td>2.75</td>\n",
       "    </tr>\n",
       "    <tr>\n",
       "      <td>3</td>\n",
       "      <td>R_110HWkVnj3TyxKp</td>\n",
       "      <td>5.25</td>\n",
       "    </tr>\n",
       "    <tr>\n",
       "      <td>4</td>\n",
       "      <td>R_3PvOqFJvcxARm77</td>\n",
       "      <td>4</td>\n",
       "    </tr>\n",
       "    <tr>\n",
       "      <td>5</td>\n",
       "      <td>R_1OrUUvZ2npkkiQY</td>\n",
       "      <td>1</td>\n",
       "    </tr>\n",
       "    <tr>\n",
       "      <td>6</td>\n",
       "      <td>R_22DoMtTnvneHZt6</td>\n",
       "      <td>1</td>\n",
       "    </tr>\n",
       "    <tr>\n",
       "      <td>7</td>\n",
       "      <td>R_VKzQ0vXsTB7xra1</td>\n",
       "      <td>4</td>\n",
       "    </tr>\n",
       "    <tr>\n",
       "      <td>8</td>\n",
       "      <td>R_cZ4SgLfmwdPvI8F</td>\n",
       "      <td>5.25</td>\n",
       "    </tr>\n",
       "    <tr>\n",
       "      <td>9</td>\n",
       "      <td>R_1Io1cuIB1lYheOI</td>\n",
       "      <td>4.75</td>\n",
       "    </tr>\n",
       "    <tr>\n",
       "      <td>10</td>\n",
       "      <td>R_1gwNShhIIruqEgb</td>\n",
       "      <td>3.25</td>\n",
       "    </tr>\n",
       "    <tr>\n",
       "      <td>11</td>\n",
       "      <td>R_1OVUaWHDMhd3oq3</td>\n",
       "      <td>4.25</td>\n",
       "    </tr>\n",
       "    <tr>\n",
       "      <td>12</td>\n",
       "      <td>R_22Eu13cBk1GbMHv</td>\n",
       "      <td>1</td>\n",
       "    </tr>\n",
       "    <tr>\n",
       "      <td>13</td>\n",
       "      <td>R_1FgPshqAtfazCXT</td>\n",
       "      <td>3.75</td>\n",
       "    </tr>\n",
       "    <tr>\n",
       "      <td>14</td>\n",
       "      <td>R_28TZQpaiuujpfio</td>\n",
       "      <td>4</td>\n",
       "    </tr>\n",
       "    <tr>\n",
       "      <td>15</td>\n",
       "      <td>R_2Wuv3KQXB60dwfd</td>\n",
       "      <td>2.5</td>\n",
       "    </tr>\n",
       "    <tr>\n",
       "      <td>16</td>\n",
       "      <td>R_3jZm3eEzooOuGeZ</td>\n",
       "      <td>5</td>\n",
       "    </tr>\n",
       "    <tr>\n",
       "      <td>17</td>\n",
       "      <td>R_2VpQ8qEWEYGcgtJ</td>\n",
       "      <td>5</td>\n",
       "    </tr>\n",
       "    <tr>\n",
       "      <td>18</td>\n",
       "      <td>R_2c2Bqqu7x81gSK8</td>\n",
       "      <td>5.25</td>\n",
       "    </tr>\n",
       "    <tr>\n",
       "      <td>19</td>\n",
       "      <td>R_SJYTJTFZOu8hlsd</td>\n",
       "      <td>3.5</td>\n",
       "    </tr>\n",
       "    <tr>\n",
       "      <td>20</td>\n",
       "      <td>R_1hFiyY6llvpRXru</td>\n",
       "      <td>4</td>\n",
       "    </tr>\n",
       "    <tr>\n",
       "      <td>21</td>\n",
       "      <td>R_21oe0X57td6GgJe</td>\n",
       "      <td>1</td>\n",
       "    </tr>\n",
       "    <tr>\n",
       "      <td>22</td>\n",
       "      <td>R_2Ui1iMPPfP5uliG</td>\n",
       "      <td>3.25</td>\n",
       "    </tr>\n",
       "  </tbody>\n",
       "</table>\n",
       "</div>"
      ],
      "text/plain": [
       "          Response ID utility\n",
       "0   R_3qaqW0eYAJn1hOb    5.25\n",
       "1   R_2wLGvRg9Y4EsjTu       5\n",
       "2   R_1K22fncrFg6b19V    2.75\n",
       "3   R_110HWkVnj3TyxKp    5.25\n",
       "4   R_3PvOqFJvcxARm77       4\n",
       "5   R_1OrUUvZ2npkkiQY       1\n",
       "6   R_22DoMtTnvneHZt6       1\n",
       "7   R_VKzQ0vXsTB7xra1       4\n",
       "8   R_cZ4SgLfmwdPvI8F    5.25\n",
       "9   R_1Io1cuIB1lYheOI    4.75\n",
       "10  R_1gwNShhIIruqEgb    3.25\n",
       "11  R_1OVUaWHDMhd3oq3    4.25\n",
       "12  R_22Eu13cBk1GbMHv       1\n",
       "13  R_1FgPshqAtfazCXT    3.75\n",
       "14  R_28TZQpaiuujpfio       4\n",
       "15  R_2Wuv3KQXB60dwfd     2.5\n",
       "16  R_3jZm3eEzooOuGeZ       5\n",
       "17  R_2VpQ8qEWEYGcgtJ       5\n",
       "18  R_2c2Bqqu7x81gSK8    5.25\n",
       "19  R_SJYTJTFZOu8hlsd     3.5\n",
       "20  R_1hFiyY6llvpRXru       4\n",
       "21  R_21oe0X57td6GgJe       1\n",
       "22  R_2Ui1iMPPfP5uliG    3.25"
      ]
     },
     "execution_count": 36,
     "metadata": {},
     "output_type": "execute_result"
    }
   ],
   "source": [
    "#####\n",
    "# Product is diary, 16.9 oz, and has \"Natural\" protein\n",
    "# The function is for all the respondents; however, if you want to use the function for a single respondent, then\n",
    "# type utility(product, individual_part_worths.iloc[3]) <- choose whatever number you want\n",
    "#####\n",
    "product = [\"Yes\", \"16.9 oz\", \"Natural\"]\n",
    "def utility(product, part_worths):\n",
    "    if type(product) != list:\n",
    "        raise TypeError(\"'Product' has to be a list\")\n",
    "    elif(len(product)) != 3:\n",
    "        raise ValueError(\"'Product' has to have a length of 3\")\n",
    "    lst = product\n",
    "    dataframe = part_worths\n",
    "    dct = {'Yes':1,\n",
    "    'No':0,\n",
    "    '11 oz': 1,\n",
    "    '16.9 oz':0,\n",
    "    'Natural':1,\n",
    "    'Synthetic':0\n",
    "    }\n",
    "    dct1 = {'Yes': 'dairy_alt',\n",
    "    'No': 'dairy_alt',\n",
    "    '11 oz': 'size_alt',\n",
    "    '16.9 oz': 'size_alt',\n",
    "    'Natural': 'protein_alt',\n",
    "    'Synthetic':'protein_alt'\n",
    "    }\n",
    "    dataframe['utility'] = dataframe['intercept'] + dataframe[dct1[lst[0]]]*dct[lst[0]] +\\\n",
    "    dataframe[dct1[lst[1]]]*dct[lst[1]] + dataframe[dct1[lst[2]]]*dct[lst[2]]\n",
    "    return dataframe[['Response ID', 'utility']]\n",
    "utility(product, individual_part_worths)"
   ]
  },
  {
   "cell_type": "markdown",
   "metadata": {},
   "source": [
    "**Task 10:** Write a function `choose_product` that takes two arguments:\n",
    "- `products`: a list of products, where each product is its own list as specified in Task 8, (Yes, it's a list of lists!)\n",
    "- `part_worths`: a row of inidivudual part worths, just as used in Task 8.\n",
    "\n",
    "This fuction should return a numpy array with the same length as the number of products; this array should contain a boolean value (true or false) for each product.  The value for a product should be true if it maximizes the utility for the individual; as multiple products can have equivalent utilities, more than one product might maximize utility.\n",
    "\n",
    "As an example, if there are two products, the `choose_product` function could return `[True, False]` if the first product maximizes the utility, `[False, True]` if the second product maximizes utility, or `[True, True]` if both products have the same utility and therefor both maximize utility for specified the individual."
   ]
  },
  {
   "cell_type": "code",
   "execution_count": 37,
   "metadata": {},
   "outputs": [
    {
     "data": {
      "text/plain": [
       "array([[False,  True, False,  True]])"
      ]
     },
     "execution_count": 37,
     "metadata": {},
     "output_type": "execute_result"
    }
   ],
   "source": [
    "# I took four sets of products, but you can increase the number of products used\n",
    "products = [[\"Yes\", \"16.9 oz\", \"Natural\"],\n",
    "           [\"Yes\", \"16.9 oz\", \"Synthetic\"],\n",
    "           [\"No\", \"16.9 oz\", \"Synthetic\"],\n",
    "           [\"Yes\", \"16.9 oz\", \"Synthetic\"]]\n",
    "def  choose_product(products, part_worths):\n",
    "    dct = {'Yes':1,\n",
    "        'No':0,\n",
    "        '11 oz': 1,\n",
    "        '16.9 oz':0,\n",
    "        'Natural':1,\n",
    "        'Synthetic':0\n",
    "        }\n",
    "    dct1 = {'Yes': 'dairy_alt',\n",
    "        'No': 'dairy_alt',\n",
    "        '11 oz': 'size_alt',\n",
    "        '16.9 oz': 'size_alt',\n",
    "        'Natural': 'protein_alt',\n",
    "        'Synthetic':'protein_alt'\n",
    "        }\n",
    "    uts = []\n",
    "    for i in products:\n",
    "        uts.append( part_worths['intercept'] + part_worths[dct1[i[0]]]*dct[i[0]] +\\\n",
    "        part_worths[dct1[i[1]]]*dct[i[1]] + part_worths[dct1[i[2]]]*dct[i[2]])\n",
    "    uts1 = np.zeros((1, len(products)), dtype=bool)\n",
    "    uts1[0][np.where(uts == np.max(uts))] = True\n",
    "    return uts1\n",
    "choose_product(products, individual_part_worths.iloc[3])\n",
    "# You can change the number above (next to iloc) to get the values for each row of the dataset\n",
    "# like if you take iloc[4] it will select the 5th row of the dataset"
   ]
  },
  {
   "cell_type": "markdown",
   "metadata": {},
   "source": [
    "**Task 11:** Write a function `simulate` that takes two arguments:\n",
    "- `products`: a list of products, identitcal to the argument for Task 9.\n",
    "- The `individual_part_worths` data frame created for Task 7.\n",
    "\n",
    "This function should simulate the market share of the products by having each individual choose a product from the list.  For an individual who chooses more than one item (multiple items are tied for the top utility value), their \"vote\" is split between the tied items.  The function should return an array of proportions of market share.  "
   ]
  },
  {
   "cell_type": "code",
   "execution_count": 38,
   "metadata": {},
   "outputs": [
    {
     "data": {
      "text/plain": [
       "array([[0.2826087 , 0.23188406, 0.25362319, 0.23188406]])"
      ]
     },
     "execution_count": 38,
     "metadata": {},
     "output_type": "execute_result"
    }
   ],
   "source": [
    "def simulate(products, individual_part_worths):\n",
    "    dct = {'Yes':1,\n",
    "        'No':0,\n",
    "        '11 oz': 1,\n",
    "        '16.9 oz':0,\n",
    "        'Natural':1,\n",
    "        'Synthetic':0\n",
    "        }\n",
    "    dct1 = {'Yes': 'dairy_alt',\n",
    "        'No': 'dairy_alt',\n",
    "        '11 oz': 'size_alt',\n",
    "        '16.9 oz': 'size_alt',\n",
    "        'Natural': 'protein_alt',\n",
    "        'Synthetic':'protein_alt'\n",
    "        }\n",
    "    empty = np.zeros((1, len(products)))\n",
    "    cnt = individual_part_worths.iloc[:, 0].count()\n",
    "    for row in range(0, cnt):\n",
    "        x = individual_part_worths.iloc[row,:]\n",
    "        uts = []\n",
    "        for i in products:\n",
    "            uts.append( x['intercept'] + x[dct1[i[0]]]*dct[i[0]] +\\\n",
    "            x[dct1[i[1]]]*dct[i[1]] + x[dct1[i[2]]]*dct[i[2]])\n",
    "        uts1 = np.zeros((1, len(products)))\n",
    "        uts1[0][np.where(uts == np.max(uts))] =1/(cnt*len(np.where(uts == np.max(uts))[0]))\n",
    "        empty += uts1\n",
    "    return empty\n",
    "simulate(products, individual_part_worths)"
   ]
  },
  {
   "cell_type": "markdown",
   "metadata": {},
   "source": [
    "**Task 12:** Create a variable called `my_product` that has the ideal value (maximum average utility) based on what you discovered in Task 5; this should be in the format described in Task 9.  For example, if the two attributes were color (with levels red and green) and shape (with levels round and square), then `my_product` could take the value `[\"red\", \"square\"]`.  Also create three competitiors (e.g., `competitor1`) using this same format.  Create a list called `all_products` that contains all four products and simulate the market with the products."
   ]
  },
  {
   "cell_type": "code",
   "execution_count": 42,
   "metadata": {},
   "outputs": [
    {
     "data": {
      "text/plain": [
       "array([[0.33695652, 0.25      , 0.31521739, 0.09782609]])"
      ]
     },
     "execution_count": 42,
     "metadata": {},
     "output_type": "execute_result"
    }
   ],
   "source": [
    "my_product = [\"Yes\", \"16.9 oz\", \"Synthetic\"]\n",
    "competitor1 = [\"No\", \"16.9 oz\", \"Synthetic\"]\n",
    "competitor2 = [\"Yes\", \"11 oz\", \"Natural\"]\n",
    "competitor3 = [\"Yes\", \"16.9 oz\", \"Natural\"]\n",
    "all_products = [my_product, competitor1, competitor2, competitor3]\n",
    "simulate(all_products, individual_part_worths)"
   ]
  },
  {
   "cell_type": "markdown",
   "metadata": {},
   "source": [
    "**Task 13:** Redefine `my_product` such that the most important attribute (from Task 6) now has the least liked level (per what you found in Task 5) and rerun the market simulation keeping the competitors the same."
   ]
  },
  {
   "cell_type": "code",
   "execution_count": 44,
   "metadata": {},
   "outputs": [
    {
     "data": {
      "text/plain": [
       "array([[0.12681159, 0.37318841, 0.37318841, 0.12681159]])"
      ]
     },
     "execution_count": 44,
     "metadata": {},
     "output_type": "execute_result"
    }
   ],
   "source": [
    "my_product = [\"Yes\", \"16.9 oz\", \"Natural\"]\n",
    "competitor1 = [\"No\", \"16.9 oz\", \"Synthetic\"]\n",
    "competitor2 = [\"Yes\", \"11 oz\", \"Natural\"]\n",
    "competitor3 = [\"Yes\", \"16.9 oz\", \"Natural\"]\n",
    "all_products = [my_product, competitor1, competitor2, competitor3]\n",
    "simulate(all_products, individual_part_worths)"
   ]
  }
 ],
 "metadata": {
  "kernelspec": {
   "display_name": "Python 3",
   "language": "python",
   "name": "python3"
  },
  "language_info": {
   "codemirror_mode": {
    "name": "ipython",
    "version": 3
   },
   "file_extension": ".py",
   "mimetype": "text/x-python",
   "name": "python",
   "nbconvert_exporter": "python",
   "pygments_lexer": "ipython3",
   "version": "3.7.3"
  }
 },
 "nbformat": 4,
 "nbformat_minor": 2
}
